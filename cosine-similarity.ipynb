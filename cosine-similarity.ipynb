{
  "nbformat": 4,
  "nbformat_minor": 0,
  "metadata": {
    "colab": {
      "provenance": [],
      "gpuType": "T4",
      "authorship_tag": "ABX9TyMUtL77TGhwA8kbiqClK0em",
      "include_colab_link": true
    },
    "kernelspec": {
      "name": "python3",
      "display_name": "Python 3"
    },
    "language_info": {
      "name": "python"
    },
    "accelerator": "GPU"
  },
  "cells": [
    {
      "cell_type": "markdown",
      "metadata": {
        "id": "view-in-github",
        "colab_type": "text"
      },
      "source": [
        "<a href=\"https://colab.research.google.com/github/vss121/Recommendation/blob/main/cosine-similarity.ipynb\" target=\"_parent\"><img src=\"https://colab.research.google.com/assets/colab-badge.svg\" alt=\"Open In Colab\"/></a>"
      ]
    },
    {
      "cell_type": "code",
      "execution_count": 11,
      "metadata": {
        "id": "Y9KqeN2U18_P"
      },
      "outputs": [],
      "source": [
        "import pandas as pd\n",
        "from sklearn.feature_extraction.text import TfidfVectorizer\n",
        "from sklearn.metrics.pairwise import cosine_similarity"
      ]
    },
    {
      "cell_type": "code",
      "source": [
        "# colab에서만! \n",
        "# Step 1: Load and preprocess the dataset\n",
        "from google.colab import drive\n",
        "drive.mount('/content/drive')\n",
        "file_path = \"/content/drive/My Drive/final_perfume_data.csv\"\n",
        "dataset = pd.read_csv(file_path, encoding= 'unicode_escape')"
      ],
      "metadata": {
        "colab": {
          "base_uri": "https://localhost:8080/"
        },
        "id": "ll9yQJkQ2P70",
        "outputId": "6496f861-8543-46e1-91fd-7266c712b91e"
      },
      "execution_count": 12,
      "outputs": [
        {
          "output_type": "stream",
          "name": "stdout",
          "text": [
            "Drive already mounted at /content/drive; to attempt to forcibly remount, call drive.mount(\"/content/drive\", force_remount=True).\n"
          ]
        }
      ]
    },
    {
      "cell_type": "code",
      "source": [
        "# Step 1: Load and preprocess the dataset\n",
        "dataset = pd.read_csv('/kaggle/input/perfume-recommendation-dataset/final_perfume_data.csv', encoding= 'unicode_escape')"
      ],
      "metadata": {
        "id": "nOogcbv82s_M"
      },
      "execution_count": null,
      "outputs": []
    },
    {
      "cell_type": "code",
      "source": [
        "# Perform any necessary data cleaning and preprocessing here\n"
      ],
      "metadata": {
        "id": "wPyML6yH5InY"
      },
      "execution_count": null,
      "outputs": []
    },
    {
      "cell_type": "code",
      "source": [
        "# Step 2: Feature extraction\n",
        "features = dataset['Description'] + ' ' + dataset['Notes']  # Combine description and notes as features"
      ],
      "metadata": {
        "id": "WwmCACVE2u4M"
      },
      "execution_count": 13,
      "outputs": []
    },
    {
      "cell_type": "code",
      "source": [
        "# Step 3: Vectorize the features\n",
        "vectorizer = TfidfVectorizer()\n",
        "feature_vectors = vectorizer.fit_transform(features.values.astype('U'))"
      ],
      "metadata": {
        "id": "5xuPwW9B2wsy"
      },
      "execution_count": 14,
      "outputs": []
    },
    {
      "cell_type": "code",
      "source": [
        "# Step 4: Calculate similarity\n",
        "similarity_matrix = cosine_similarity(feature_vectors, feature_vectors)"
      ],
      "metadata": {
        "id": "_P3xYrZ72yDi"
      },
      "execution_count": 15,
      "outputs": []
    },
    {
      "cell_type": "code",
      "source": [
        "# Step 5: Recommend perfumes\n",
        "def recommend_perfumes(liked_perfumes, top_n=5):\n",
        "    # Find the indices of liked perfumes\n",
        "    liked_indices = dataset[dataset['Name'].isin(liked_perfumes)].index\n",
        "\n",
        "    # Calculate the similarity scores for the liked perfumes\n",
        "    similarity_scores = similarity_matrix[liked_indices]\n",
        "\n",
        "    # Calculate the average similarity scores, excluding the liked perfumes\n",
        "    average_similarity = similarity_scores.mean(axis=0)\n",
        "    average_similarity[liked_indices] = 0  # Set similarity scores of liked perfumes to 0\n",
        "\n",
        "    # Get the indices of top n similar perfumes\n",
        "    top_indices = average_similarity.argsort()[::-1][:top_n]\n",
        "\n",
        "    # Get the names of recommended perfumes\n",
        "    recommended_perfumes = dataset.loc[top_indices, 'Name'].tolist()\n",
        "\n",
        "    return recommended_perfumes"
      ],
      "metadata": {
        "id": "3URG6uWI20Bk"
      },
      "execution_count": 16,
      "outputs": []
    },
    {
      "cell_type": "code",
      "source": [
        "# Example usage\n",
        "liked_perfumes = ['Rose de Petra Eau de Parfum', 'Monsieur Eau de Parfum', 'Resin Sacra Eau de Parfum', 'Golden Moka Eau de Parfum', 'Wood Jasmin Eau de Parfum']  # Replace with the names of perfumes liked by the client\n",
        "recommended = recommend_perfumes(liked_perfumes)"
      ],
      "metadata": {
        "id": "VyQ3021X22G3"
      },
      "execution_count": 17,
      "outputs": []
    },
    {
      "cell_type": "code",
      "source": [
        "print(\"Recommended perfumes:\")\n",
        "for perfume in recommended:\n",
        "    print(perfume)"
      ],
      "metadata": {
        "colab": {
          "base_uri": "https://localhost:8080/"
        },
        "id": "Tyd8tL_823bE",
        "outputId": "951fbbaa-bd57-47b9-f275-070525cad32d"
      },
      "execution_count": 18,
      "outputs": [
        {
          "output_type": "stream",
          "name": "stdout",
          "text": [
            "Recommended perfumes:\n",
            "Incense Rose Eau de Parfum\n",
            "Epic Woman Eau de Parfum\n",
            "1 Parfum Extrait\n",
            "Dzongkha Eau de Toilette\n",
            "Vepres Siciliennes Eau de Parfum\n"
          ]
        }
      ]
    }
  ]
}
